{
 "cells": [
  {
   "cell_type": "markdown",
   "metadata": {},
   "source": [
    "Camparison of the reference sequeces from Shakya et al 2013. The sbt contains signatures calculated using --scaled 10,000, --singleton, and the following k values (11 21 31 41 51 61 71 81 91 101 201 301)"
   ]
  },
  {
   "cell_type": "code",
   "execution_count": 1,
   "metadata": {
    "collapsed": true
   },
   "outputs": [],
   "source": [
    "%matplotlib inline"
   ]
  },
  {
   "cell_type": "code",
   "execution_count": 2,
   "metadata": {
    "collapsed": true
   },
   "outputs": [],
   "source": [
    "import numpy\n",
    "from sourmash_lib import fig\n",
    "import pylab"
   ]
  },
  {
   "cell_type": "code",
   "execution_count": 3,
   "metadata": {
    "collapsed": false,
    "scrolled": true
   },
   "outputs": [
    {
     "name": "stdout",
     "output_type": "stream",
     "text": [
      "/Users/philliptbrooks/Desktop/sourmash/mircea_refs\n"
     ]
    }
   ],
   "source": [
    "cd mircea_refs/"
   ]
  },
  {
   "cell_type": "code",
   "execution_count": 5,
   "metadata": {
    "collapsed": false
   },
   "outputs": [
    {
     "name": "stdout",
     "output_type": "stream",
     "text": [
      "      65 mircea.fa.sig.k.101.txt\r\n",
      "       4 mircea.fa.sig.k.11.txt\r\n",
      "      65 mircea.fa.sig.k.201.txt\r\n",
      "      65 mircea.fa.sig.k.21.txt\r\n",
      "      65 mircea.fa.sig.k.301.txt\r\n",
      "      65 mircea.fa.sig.k.31.txt\r\n",
      "      65 mircea.fa.sig.k.41.txt\r\n",
      "      65 mircea.fa.sig.k.51.txt\r\n",
      "      65 mircea.fa.sig.k.61.txt\r\n",
      "      65 mircea.fa.sig.k.71.txt\r\n",
      "      65 mircea.fa.sig.k.81.txt\r\n",
      "      65 mircea.fa.sig.k.91.txt\r\n",
      "     719 total\r\n"
     ]
    }
   ],
   "source": [
    "!wc -l *1.txt"
   ]
  },
  {
   "cell_type": "code",
   "execution_count": 6,
   "metadata": {
    "collapsed": false
   },
   "outputs": [
    {
     "name": "stdout",
     "output_type": "stream",
     "text": [
      "0.34 Thermotoga_sp._RQ2\r\n",
      "0.41 Sulfitobacter_sp._EE-36_scf_1099451318008_\r\n",
      "0.44 Shewanella_baltica_OS185\r\n",
      "0.67 Sulfurihydrogenibium_yellowstonense_SS-5\r\n",
      "0.86 Methanococcus_maripaludis_C5\r\n",
      "0.90 Salinispora_tropica_CNB-440\r\n",
      "0.91 Caldibescii_DSM_6725\r\n",
      "0.93 Thermotoga_neapolitana_DSM_4359\r\n",
      "0.98 Bacteroides_vulgatus_ATCC_8482\r\n",
      "0.98 Chlorobiumlimicola_DSM_245\r\n",
      "0.99 Chlorobiumphaeobacteroides_DSM_266\r\n",
      "0.99 Chlorobiumphaeovibrioides_DSM_265\r\n",
      "0.99 Chlorobiumtepidum_TLS\r\n",
      "0.99 Desulfovibrio_piger_ATCC_29098\r\n",
      "0.99 Hydrogenobaculum_sp._Y04AAS1\r\n",
      "0.99 Leptothrix_cholodnii_SP-6\r\n",
      "0.99 Porphyromonas_gingivalis_ATCC_33277_DNA\r\n",
      "0.99 Pyrococcus_horikoshii_OT3_DNA\r\n",
      "0.99 Sulfitobacter_NAS-14.1_scf_1099451320477_\r\n",
      "0.99 SulfuriYO3AOP1\r\n",
      "0.99 Thermus_thermophilus_HB27\r\n",
      "1.00 Acidobacterium_capsulatum_ATCC_51196\r\n",
      "1.00 Aciduliprofundum_boonei_T469\r\n",
      "1.00 Akkermansia_muciniphila_ATCC_BAA-835\r\n",
      "1.00 Archaeoglobus_fulgidus_DSM_4304\r\n",
      "1.00 Bacteroides_thetaiotaomicron_VPI-5482\r\n",
      "1.00 Bordetella_bronchiseptica_strain_RB50\r\n",
      "1.00 Burkholderia1_xenovorans_LB400_chromosome_1,_complete_sequence\r\n",
      "1.00 Caldisaccharolyticus_DSM_8903\r\n",
      "1.00 Chloroflexus_aurantiacus_J-10-fl\r\n",
      "1.00 Clostridium_thermocellum_ATCC_27405\r\n",
      "1.00 Deinococcus_radiodurans_R1_chromosome_1,_complete_sequence\r\n",
      "1.00 Desulfovibrio_vulgaris_DP4\r\n",
      "1.00 Dictyoglomus_turgidum_DSM_6724\r\n",
      "1.00 Enterococcus_faecalis_V583\r\n",
      "1.00 Fusobacterium_nucleatum_subsp._nucleatum_ATCC_25586\r\n",
      "1.00 Gemmatimonas_aurantiaca_T-27_DNA\r\n",
      "1.00 Geobacter_sulfurreducens_PCA\r\n",
      "1.00 Haloferax_volcanii_DS2\r\n",
      "1.00 Herpetosiphon_aurantiacus_ATCC_23779\r\n",
      "1.00 Ignicoccus_hospitalis_KIN4/I\r\n",
      "1.00 Methanocaldococcus_jannaschii_DSM_2661\r\n",
      "1.00 Methanococcus_maripaludis_strain_S2,_complete_sequence\r\n",
      "1.00 Methanopyrus_kandleri_AV19\r\n",
      "1.00 Methanosarcina_acetivorans_str._C2A\r\n",
      "1.00 Nanoarchaeum_equitans_Kin4-M\r\n",
      "1.00 Nitrosomonas_europaea_ATCC_19718\r\n",
      "1.00 Nostoc_sp._PCC_7120_DNA\r\n",
      "1.00 Pelodictyon_phaeoclathratiforme_BU-1\r\n",
      "1.00 Persephonella_marina_EX-H1\r\n",
      "1.00 Pyrobaculum_aerophilum_str._IM2\r\n",
      "1.00 Pyrobaculum_arsenaticum_DSM_13514\r\n",
      "1.00 Pyrobaculum_calidifontis_JCM_11548\r\n",
      "1.00 Pyrococcus_furiosus_DSM_3638\r\n",
      "1.00 Rhodopirellula_baltica_SH_1_complete_genome\r\n",
      "1.00 Ruegeria_pomeroyi_DSS-3\r\n",
      "1.00 Salinispora_arenicola_CNS-205\r\n",
      "1.00 Shewanella_baltica_OS223,\r\n",
      "1.00 Sulfolobus_tokodaii\r\n",
      "1.00 Thermoanaerobacter_pseudethanolicus_ATCC_33223\r\n",
      "1.00 Thermotoga_petrophila_RKU-1\r\n",
      "1.00 Treponema_denticola_ATCC_35405\r\n",
      "1.00 Wolinella_succinogenes_DSM_1740\r\n",
      "1.00 Zymomonas_mobilis_subsp._mobilis_ZM4\r\n",
      "Composition:\r\n"
     ]
    }
   ],
   "source": [
    "!sort -k 1 mircea.fa.sig.k.21.txt | cat - "
   ]
  },
  {
   "cell_type": "code",
   "execution_count": 7,
   "metadata": {
    "collapsed": false
   },
   "outputs": [
    {
     "name": "stdout",
     "output_type": "stream",
     "text": [
      "0.67 Thermotoga_petrophila_RKU-1\r\n",
      "0.94 Shewanella_baltica_OS223,\r\n",
      "0.96 Thermotoga_neapolitana_DSM_4359\r\n",
      "0.98 Sulfitobacter_sp._EE-36_scf_1099451318008_\r\n",
      "0.99 Pyrobaculum_arsenaticum_DSM_13514\r\n",
      "0.99 Pyrococcus_horikoshii_OT3_DNA\r\n",
      "1.00 Acidobacterium_capsulatum_ATCC_51196\r\n",
      "1.00 Aciduliprofundum_boonei_T469\r\n",
      "1.00 Akkermansia_muciniphila_ATCC_BAA-835\r\n",
      "1.00 Archaeoglobus_fulgidus_DSM_4304\r\n",
      "1.00 Bacteroides_thetaiotaomicron_VPI-5482\r\n",
      "1.00 Bacteroides_vulgatus_ATCC_8482\r\n",
      "1.00 Bordetella_bronchiseptica_strain_RB50\r\n",
      "1.00 Burkholderia1_xenovorans_LB400_chromosome_1,_complete_sequence\r\n",
      "1.00 Caldibescii_DSM_6725\r\n",
      "1.00 Caldisaccharolyticus_DSM_8903\r\n",
      "1.00 Chlorobiumlimicola_DSM_245\r\n",
      "1.00 Chlorobiumphaeobacteroides_DSM_266\r\n",
      "1.00 Chlorobiumphaeovibrioides_DSM_265\r\n",
      "1.00 Chlorobiumtepidum_TLS\r\n",
      "1.00 Chloroflexus_aurantiacus_J-10-fl\r\n",
      "1.00 Clostridium_thermocellum_ATCC_27405\r\n",
      "1.00 Deinococcus_radiodurans_R1_chromosome_1,_complete_sequence\r\n",
      "1.00 Desulfovibrio_piger_ATCC_29098\r\n",
      "1.00 Desulfovibrio_vulgaris_DP4\r\n",
      "1.00 Dictyoglomus_turgidum_DSM_6724\r\n",
      "1.00 Enterococcus_faecalis_V583\r\n",
      "1.00 Fusobacterium_nucleatum_subsp._nucleatum_ATCC_25586\r\n",
      "1.00 Gemmatimonas_aurantiaca_T-27_DNA\r\n",
      "1.00 Geobacter_sulfurreducens_PCA\r\n",
      "1.00 Haloferax_volcanii_DS2\r\n",
      "1.00 Herpetosiphon_aurantiacus_ATCC_23779\r\n",
      "1.00 Hydrogenobaculum_sp._Y04AAS1\r\n",
      "1.00 Ignicoccus_hospitalis_KIN4/I\r\n",
      "1.00 Leptothrix_cholodnii_SP-6\r\n",
      "1.00 Methanocaldococcus_jannaschii_DSM_2661\r\n",
      "1.00 Methanococcus_maripaludis_C5\r\n",
      "1.00 Methanococcus_maripaludis_strain_S2,_complete_sequence\r\n",
      "1.00 Methanopyrus_kandleri_AV19\r\n",
      "1.00 Methanosarcina_acetivorans_str._C2A\r\n",
      "1.00 Nanoarchaeum_equitans_Kin4-M\r\n",
      "1.00 Nitrosomonas_europaea_ATCC_19718\r\n",
      "1.00 Nostoc_sp._PCC_7120_DNA\r\n",
      "1.00 Pelodictyon_phaeoclathratiforme_BU-1\r\n",
      "1.00 Persephonella_marina_EX-H1\r\n",
      "1.00 Porphyromonas_gingivalis_ATCC_33277_DNA\r\n",
      "1.00 Pyrobaculum_aerophilum_str._IM2\r\n",
      "1.00 Pyrobaculum_calidifontis_JCM_11548\r\n",
      "1.00 Pyrococcus_furiosus_DSM_3638\r\n",
      "1.00 Rhodopirellula_baltica_SH_1_complete_genome\r\n",
      "1.00 Ruegeria_pomeroyi_DSS-3\r\n",
      "1.00 Salinispora_arenicola_CNS-205\r\n",
      "1.00 Salinispora_tropica_CNB-440\r\n",
      "1.00 Shewanella_baltica_OS185\r\n",
      "1.00 Sulfitobacter_NAS-14.1_scf_1099451320477_\r\n",
      "1.00 Sulfolobus_tokodaii\r\n",
      "1.00 SulfuriYO3AOP1\r\n",
      "1.00 Sulfurihydrogenibium_yellowstonense_SS-5\r\n",
      "1.00 Thermoanaerobacter_pseudethanolicus_ATCC_33223\r\n",
      "1.00 Thermotoga_sp._RQ2\r\n",
      "1.00 Thermus_thermophilus_HB27\r\n",
      "1.00 Treponema_denticola_ATCC_35405\r\n",
      "1.00 Wolinella_succinogenes_DSM_1740\r\n",
      "1.00 Zymomonas_mobilis_subsp._mobilis_ZM4\r\n",
      "Composition:\r\n"
     ]
    }
   ],
   "source": [
    "!sort -k 1 mircea.fa.sig.k.301.txt | cat - "
   ]
  },
  {
   "cell_type": "markdown",
   "metadata": {},
   "source": [
    "### Conclusion \n",
    "\n",
    "All orgrnaims were detected at k21 and k 301 with modest improvement in genome fraction."
   ]
  },
  {
   "cell_type": "code",
   "execution_count": null,
   "metadata": {
    "collapsed": true
   },
   "outputs": [],
   "source": []
  }
 ],
 "metadata": {
  "kernelspec": {
   "display_name": "Python [Root]",
   "language": "python",
   "name": "Python [Root]"
  },
  "language_info": {
   "codemirror_mode": {
    "name": "ipython",
    "version": 3
   },
   "file_extension": ".py",
   "mimetype": "text/x-python",
   "name": "python",
   "nbconvert_exporter": "python",
   "pygments_lexer": "ipython3",
   "version": "3.5.2"
  }
 },
 "nbformat": 4,
 "nbformat_minor": 0
}
