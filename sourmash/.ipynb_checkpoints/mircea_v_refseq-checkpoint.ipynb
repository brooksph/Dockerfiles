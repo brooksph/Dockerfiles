{
 "cells": [
  {
   "cell_type": "code",
   "execution_count": 1,
   "metadata": {
    "collapsed": true
   },
   "outputs": [],
   "source": [
    "%matplotlib inline"
   ]
  },
  {
   "cell_type": "code",
   "execution_count": 2,
   "metadata": {
    "collapsed": true
   },
   "outputs": [],
   "source": [
    "import numpy\n",
    "from sourmash_lib import fig\n",
    "import pylab"
   ]
  },
  {
   "cell_type": "code",
   "execution_count": 3,
   "metadata": {
    "collapsed": false
   },
   "outputs": [
    {
     "name": "stdout",
     "output_type": "stream",
     "text": [
      "/Users/philliptbrooks/Desktop/sourmash/mircea_v_refseq\n"
     ]
    }
   ],
   "source": [
    "cd mircea_v_refseq/"
   ]
  },
  {
   "cell_type": "code",
   "execution_count": 4,
   "metadata": {
    "collapsed": false
   },
   "outputs": [
    {
     "name": "stdout",
     "output_type": "stream",
     "text": [
      "     175 microbes.2.k15.txt\r\n",
      "      60 microbes.2.k31.txt\r\n",
      "      60 microbes.2.k51.sort.txt\r\n",
      "      60 microbes.2.k51.txt\r\n",
      "     355 total\r\n"
     ]
    }
   ],
   "source": [
    "!wc -l *txt"
   ]
  },
  {
   "cell_type": "code",
   "execution_count": 5,
   "metadata": {
    "collapsed": false
   },
   "outputs": [
    {
     "name": "stdout",
     "output_type": "stream",
     "text": [
      "0.02 NZ_LGKP01000025.1 Herpetosiphon geysericola strain DSM 7119 contig_1, whole genome shotgun sequence\r\n",
      "0.06 NC_013887.1 Methanocaldococcus sp. FS406-22, complete genome\r\n",
      "0.37 NC_010483.1 Thermotoga sp. RQ2, complete genome\r\n",
      "0.45 NZ_CH959311.1 Sulfitobacter sp. EE-36 scf_1099451318005 genomic scaffold, whole genome shotgun sequence\r\n",
      "0.47 NC_009665.1 Shewanella baltica OS185, complete genome\r\n",
      "0.74 NC_013968.1 Haloferax volcanii DS2 plasmid pHV1, complete sequence\r\n",
      "0.75 NZ_ABZS01000228.1 Sulfurihydrogenibium yellowstonense SS-5 gcontig_18, whole genome shotgun sequence\r\n",
      "0.87 NC_003911.12 Ruegeria pomeroyi DSS-3, complete genome\r\n",
      "0.88 NC_003272.1 Nostoc sp. PCC 7120 DNA, complete genome\r\n",
      "0.88 NC_005835.1 Thermus thermophilus HB27, complete genome\r\n",
      "0.88 NZ_CH959317.1 Sulfitobacter sp. NAS-14.1 scf_1099451320472 genomic scaffold, whole genome shotgun sequence\r\n",
      "0.94 NC_001263.1 Deinococcus radiodurans R1 chromosome 1, complete sequence\r\n",
      "0.94 NC_008751.1 Desulfovibrio vulgaris DP4, complete genome\r\n",
      "0.94 NC_009380.1 Salinispora tropica CNB-440, complete genome\r\n",
      "0.94 NC_009437.1 Caldicellulosiruptor saccharolyticus DSM 8903, complete genome\r\n",
      "0.94 NC_009486.1 Thermotoga petrophila RKU-1, complete genome\r\n",
      "0.95 NC_011663.1 Shewanella baltica OS223, complete genome\r\n",
      "0.96 NC_005791.1 Methanococcus maripaludis strain S2, complete sequence\r\n",
      "0.96 NZ_KE136524.1 Enterococcus faecalis V583 genomic scaffold acyDH-supercont2.1, whole genome shotgun sequence\r\n",
      "0.98 NC_012440.1 Persephonella marina EX-H1, complete genome\r\n",
      "0.99 NC_009337.1 Chlorobium phaeovibrioides DSM 265, complete genome\r\n",
      "0.99 NC_009614.1 Bacteroides vulgatus ATCC 8482, complete genome\r\n",
      "0.99 NC_011060.1 Pelodictyon phaeoclathratiforme BU-1, complete genome\r\n",
      "0.99 NC_012034.1 Caldicellulosiruptor bescii DSM 6725, complete genome\r\n",
      "0.99 NZ_DS996397.1 Desulfovibrio piger ATCC 29098 Scfld442 genomic scaffold, whole genome shotgun sequence\r\n",
      "1.00 NC_000917.1 Archaeoglobus fulgidus DSM 4304, complete genome\r\n",
      "1.00 NC_000961.1 Pyrococcus horikoshii OT3 DNA, complete genome\r\n",
      "1.00 NC_002927.3 Bordetella bronchiseptica strain RB50, complete genome\r\n",
      "1.00 NC_002932.3 Chlorobium tepidum TLS chromosome, complete genome\r\n",
      "1.00 NC_002939.5 Geobacter sulfurreducens PCA chromosome, complete genome\r\n",
      "1.00 NC_002967.9 Treponema denticola ATCC 35405 chromosome, complete genome\r\n",
      "1.00 NC_003106.2 Sulfolobus tokodaii str. 7 DNA, complete genome\r\n",
      "1.00 NC_003413.1 Pyrococcus furiosus DSM 3638, complete genome\r\n",
      "1.00 NC_003454.1 Fusobacterium nucleatum subsp. nucleatum ATCC 25586 chromosome, complete genome\r\n",
      "1.00 NC_003552.1 Methanosarcina acetivorans str. C2A, complete genome\r\n",
      "1.00 NC_004663.1 Bacteroides thetaiotaomicron VPI-5482 chromosome, complete genome\r\n",
      "1.00 NC_004757.1 Nitrosomonas europaea ATCC 19718, complete genome\r\n",
      "1.00 NC_005027.1 Rhodopirellula baltica SH 1 chromosome, complete genome\r\n",
      "1.00 NC_005090.1 Wolinella succinogenes DSM 1740, complete genome\r\n",
      "1.00 NC_006526.2 Zymomonas mobilis subsp. mobilis ZM4, complete genome\r\n",
      "1.00 NC_008639.1 Chlorobium phaeobacteroides DSM 266, complete genome\r\n",
      "1.00 NC_009012.1 Clostridium thermocellum ATCC 27405, complete genome\r\n",
      "1.00 NC_009135.1 Methanococcus maripaludis C5, complete genome\r\n",
      "1.00 NC_009776.1 Ignicoccus hospitalis KIN4/I, complete genome\r\n",
      "1.00 NC_009953.1 Salinispora arenicola CNS-205, complete genome\r\n",
      "1.00 NC_010175.1 Chloroflexus aurantiacus J-10-fl chromosome, complete genome\r\n",
      "1.00 NC_010321.1 Thermoanaerobacter pseudethanolicus ATCC 33223, complete genome\r\n",
      "1.00 NC_010524.1 Leptothrix cholodnii SP-6, complete genome\r\n",
      "1.00 NC_010655.1 Akkermansia muciniphila ATCC BAA-835, complete genome\r\n",
      "1.00 NC_010730.1 Sulfurihydrogenibium sp. YO3AOP1, complete genome\r\n",
      "1.00 NC_010803.1 Chlorobium limicola DSM 245, complete genome\r\n",
      "1.00 NC_011126.1 Hydrogenobaculum sp. Y04AAS1, complete genome\r\n",
      "1.00 NC_011661.1 Dictyoglomus turgidum DSM 6724 chromosome, complete genome\r\n",
      "1.00 NC_011978.1 Thermotoga neapolitana DSM 4359, complete genome\r\n",
      "1.00 NC_012483.1 Acidobacterium capsulatum ATCC 51196, complete genome\r\n",
      "1.00 NC_012489.1 Gemmatimonas aurantiaca T-27 DNA, complete genome\r\n",
      "1.00 NC_013926.1 Aciduliprofundum boonei T469, complete genome\r\n",
      "1.00 NZ_CP008760.1 Burkholderia xenovorans LB400 chromosome 1, complete sequence\r\n",
      "1.00 NZ_CP012889.1 Porphyromonas gingivalis 381, complete genome\r\n",
      "Composition:\r\n"
     ]
    }
   ],
   "source": [
    "!sort -k 1 microbes.2.k31.txt | cat -"
   ]
  },
  {
   "cell_type": "markdown",
   "metadata": {},
   "source": [
    "### Organisms present in metagenome but not found with SBT search\n",
    "- Herpetosiphon aurantiacus \n",
    "- Methanocaldococcus jannaschii\n",
    "- Methanopyrus kandleri \n",
    "- Nanoarchaeum equitans \n",
    "- Pyrobaculum aerophilum IM2\n",
    "- Pyrobaculum arsenaticum \n",
    "- Pyrobaculum calidifontis \n",
    "- Thermus thermophilus HB8\n",
    "\n",
    "### Organisms found with sbt search but not present in metagenome (Fraction of genome, Refseq ID, organism)\n",
    "- 0.02 NZ_LGKP01000025.1 Herpetosiphon geysericola strain DSM 7119 contig_1, whole genome shotgun sequence\n",
    "- 0.06 NC_013887.1 Methanocaldococcus sp. FS406-22, complete genome\n",
    "- 0.88 NC_005835.1 Thermus thermophilus HB27, complete genome\n",
    "\n",
    "\n"
   ]
  },
  {
   "cell_type": "code",
   "execution_count": 8,
   "metadata": {
    "collapsed": false
   },
   "outputs": [
    {
     "name": "stdout",
     "output_type": "stream",
     "text": [
      "# running sourmash subcommand: compute\n",
      "computing signatures for files: GCF_000007185.1_ASM718v1_genomic.fna.gz, GCF_000007225.1_ASM722v1_genomic.fna.gz, GCF_000008085.1_ASM808v1_genomic.fna.gz, GCF_000015805.1_ASM1580v1_genomic.fna.gz, GCF_000016385.1_ASM1638v1_genomic.fna.gz, GCF_000018565.1_ASM1856v1_genomic.fna.gz, GCF_000091545.1_ASM9154v1_genomic.fna.gz, GCF_000091665.1_ASM9166v1_cds_from_genomic.fna.gz\n",
      "Computing signature for ksizes: [31, 51]\n",
      "Computing only DNA (and not protein) signatures.\n",
      "Computing a total of 2 signatures.\n",
      "Computing signature for ksizes: [31, 51]\n",
      "... reading sequences from GCF_000007185.1_ASM718v1_genomic.fna.gz\n",
      "calculated 2 signatures for 1 sequences in GCF_000007185.1_ASM718v1_genomic.fna.gz\n",
      "... reading sequences from GCF_000007225.1_ASM722v1_genomic.fna.gz\n",
      "calculated 2 signatures for 1 sequences in GCF_000007225.1_ASM722v1_genomic.fna.gz\n",
      "... reading sequences from GCF_000008085.1_ASM808v1_genomic.fna.gz\n",
      "calculated 2 signatures for 1 sequences in GCF_000008085.1_ASM808v1_genomic.fna.gz\n",
      "... reading sequences from GCF_000015805.1_ASM1580v1_genomic.fna.gz\n",
      "calculated 2 signatures for 1 sequences in GCF_000015805.1_ASM1580v1_genomic.fna.gz\n",
      "... reading sequences from GCF_000016385.1_ASM1638v1_genomic.fna.gz\n",
      "calculated 2 signatures for 1 sequences in GCF_000016385.1_ASM1638v1_genomic.fna.gz\n",
      "... reading sequences from GCF_000018565.1_ASM1856v1_genomic.fna.gz\n",
      "calculated 2 signatures for 3 sequences in GCF_000018565.1_ASM1856v1_genomic.fna.gz\n",
      "... reading sequences from GCF_000091545.1_ASM9154v1_genomic.fna.gz\n",
      "calculated 2 signatures for 3 sequences in GCF_000091545.1_ASM9154v1_genomic.fna.gz\n",
      "... reading sequences from GCF_000091665.1_ASM9166v1_cds_from_genomic.fna.gz\n",
      "calculated 2 signatures for 1808 sequences in GCF_000091665.1_ASM9166v1_cds_from_genomic.fna.gz\n"
     ]
    }
   ],
   "source": [
    "!sourmash compute -k 31,51 --dna --scaled 10000 -n 0 *fna.gz"
   ]
  },
  {
   "cell_type": "code",
   "execution_count": 10,
   "metadata": {
    "collapsed": false
   },
   "outputs": [
    {
     "name": "stdout",
     "output_type": "stream",
     "text": [
      "Unrecognized command\r\n",
      "usage: sourmash <command> [<args>]\r\n",
      "\r\n",
      "Commands can be:\r\n",
      "\r\n",
      "compute <filenames>         Compute signatures for sequences in these files.\r\n",
      "compare <filenames.sig>     Compute distance matrix for given signatures.\r\n",
      "search <query> <against>    Search for matching signatures.\r\n",
      "plot <matrix>               Plot a distance matrix made by 'compare'.\r\n",
      "\r\n",
      "import_csv                  Import signatures from a CSV file.\r\n",
      "convert                     Convert signatures from YAML to JSON.\r\n",
      "\r\n",
      "sbt_index                   Index signatures with a Sequence Bloom Tree.\r\n",
      "sbt_search                  Search a Sequence Bloom Tree.\r\n",
      "categorize                  Categorize signatures with a SBT.\r\n",
      "sbt_gather                  Search a signature for multiple matches.\r\n",
      "watch                       Classify a stream of sequences using a SBT.\r\n",
      "\r\n",
      "Use '-h' to get subcommand-specific help, e.g.\r\n",
      "\r\n",
      "sourmash compute -h\r\n",
      ".\r\n",
      "\r\n",
      "work with RNAseq signatures\r\n",
      "\r\n",
      "positional arguments:\r\n",
      "  command\r\n",
      "\r\n",
      "optional arguments:\r\n",
      "  -h, --help  show this help message and exit\r\n"
     ]
    }
   ],
   "source": [
    "!sourmash sbt search -k 31 --dna "
   ]
  },
  {
   "cell_type": "code",
   "execution_count": 6,
   "metadata": {
    "collapsed": false
   },
   "outputs": [
    {
     "name": "stdout",
     "output_type": "stream",
     "text": [
      "Composition:\r\n",
      "1.00 NC_012483.1 Acidobacterium capsulatum ATCC 51196, complete genome\r\n",
      "1.00 NC_013926.1 Aciduliprofundum boonei T469, complete genome\r\n",
      "1.00 NC_010655.1 Akkermansia muciniphila ATCC BAA-835, complete genome\r\n",
      "1.00 NC_000917.1 Archaeoglobus fulgidus DSM 4304, complete genome\r\n",
      "0.99 NC_004663.1 Bacteroides thetaiotaomicron VPI-5482 chromosome, complete genome\r\n",
      "0.99 NC_009614.1 Bacteroides vulgatus ATCC 8482, complete genome\r\n",
      "1.00 NC_002927.3 Bordetella bronchiseptica strain RB50, complete genome\r\n",
      "1.00 NC_007951.1 Burkholderia xenovorans LB400 chromosome 1, complete sequence\r\n",
      "0.97 NC_012034.1 Caldicellulosiruptor bescii DSM 6725, complete genome\r\n",
      "1.00 NC_009437.1 Caldicellulosiruptor saccharolyticus DSM 8903, complete genome\r\n",
      "1.00 NC_010803.1 Chlorobium limicola DSM 245, complete genome\r\n",
      "1.00 NC_008639.1 Chlorobium phaeobacteroides DSM 266, complete genome\r\n",
      "1.00 NC_009337.1 Chlorobium phaeovibrioides DSM 265, complete genome\r\n",
      "1.00 NC_002932.3 Chlorobium tepidum TLS chromosome, complete genome\r\n",
      "1.00 NC_010175.1 Chloroflexus aurantiacus J-10-fl chromosome, complete genome\r\n",
      "1.00 NC_009012.1 Clostridium thermocellum ATCC 27405, complete genome\r\n",
      "0.94 NC_001263.1 Deinococcus radiodurans R1 chromosome 1, complete sequence\r\n",
      "0.99 NZ_DS996397.1 Desulfovibrio piger ATCC 29098 Scfld442 genomic scaffold, whole genome shotgun sequence\r\n",
      "0.95 NC_008751.1 Desulfovibrio vulgaris DP4, complete genome\r\n",
      "1.00 NC_011661.1 Dictyoglomus turgidum DSM 6724 chromosome, complete genome\r\n",
      "0.96 NZ_KE136524.1 Enterococcus faecalis V583 genomic scaffold acyDH-supercont2.1, whole genome shotgun sequence\r\n",
      "1.00 NC_003454.1 Fusobacterium nucleatum subsp. nucleatum ATCC 25586 chromosome, complete genome\r\n",
      "1.00 NC_012489.1 Gemmatimonas aurantiaca T-27 DNA, complete genome\r\n",
      "1.00 NC_002939.5 Geobacter sulfurreducens PCA chromosome, complete genome\r\n",
      "0.71 NC_013968.1 Haloferax volcanii DS2 plasmid pHV1, complete sequence\r\n",
      "0.02 NZ_LGKP01000025.1 Herpetosiphon geysericola strain DSM 7119 contig_1, whole genome shotgun sequence\r\n",
      "1.00 NC_011126.1 Hydrogenobaculum sp. Y04AAS1, complete genome\r\n",
      "1.00 NC_009776.1 Ignicoccus hospitalis KIN4/I, complete genome\r\n",
      "1.00 NC_010524.1 Leptothrix cholodnii SP-6, complete genome\r\n",
      "0.03 NZ_CP009149.1 Methanocaldococcus sp. JH146, complete genome\r\n",
      "0.96 NC_009135.1 Methanococcus maripaludis C5, complete genome\r\n",
      "1.00 NC_005791.1 Methanococcus maripaludis strain S2, complete sequence\r\n",
      "1.00 NC_003552.1 Methanosarcina acetivorans str. C2A, complete genome\r\n",
      "1.00 NC_004757.1 Nitrosomonas europaea ATCC 19718, complete genome\r\n",
      "0.88 NC_003272.1 Nostoc sp. PCC 7120 DNA, complete genome\r\n",
      "1.00 NC_011060.1 Pelodictyon phaeoclathratiforme BU-1, complete genome\r\n",
      "0.98 NC_012440.1 Persephonella marina EX-H1, complete genome\r\n",
      "1.00 NC_010729.1 Porphyromonas gingivalis ATCC 33277 DNA, complete genome\r\n",
      "1.00 NC_018092.1 Pyrococcus furiosus COM1, complete genome\r\n",
      "0.99 NC_000961.1 Pyrococcus horikoshii OT3 DNA, complete genome\r\n",
      "1.00 NC_005027.1 Rhodopirellula baltica SH 1 chromosome, complete genome\r\n",
      "0.86 NC_003911.12 Ruegeria pomeroyi DSS-3, complete genome\r\n",
      "1.00 NC_009953.1 Salinispora arenicola CNS-205, complete genome\r\n",
      "0.99 NC_009380.1 Salinispora tropica CNB-440, complete genome\r\n",
      "0.61 NC_009665.1 Shewanella baltica OS185, complete genome\r\n",
      "0.96 NC_011663.1 Shewanella baltica OS223, complete genome\r\n",
      "0.57 NZ_CH959311.1 Sulfitobacter sp. EE-36 scf_1099451318005 genomic scaffold, whole genome shotgun sequence\r\n",
      "0.89 NZ_CH959317.1 Sulfitobacter sp. NAS-14.1 scf_1099451320472 genomic scaffold, whole genome shotgun sequence\r\n",
      "1.00 NC_003106.2 Sulfolobus tokodaii str. 7 DNA, complete genome\r\n",
      "1.00 NC_010730.1 Sulfurihydrogenibium sp. YO3AOP1, complete genome\r\n",
      "0.83 NZ_ABZS01000228.1 Sulfurihydrogenibium yellowstonense SS-5 gcontig_18, whole genome shotgun sequence\r\n",
      "1.00 NC_014964.1 Thermoanaerobacter brockii subsp. finnii Ako-1, complete genome\r\n",
      "0.96 NC_011978.1 Thermotoga neapolitana DSM 4359, complete genome\r\n",
      "1.00 NC_009486.1 Thermotoga petrophila RKU-1, complete genome\r\n",
      "0.49 NC_010483.1 Thermotoga sp. RQ2, complete genome\r\n",
      "0.91 NC_005835.1 Thermus thermophilus HB27, complete genome\r\n",
      "1.00 NC_002967.9 Treponema denticola ATCC 35405 chromosome, complete genome\r\n",
      "1.00 NC_005090.1 Wolinella succinogenes DSM 1740, complete genome\r\n",
      "1.00 NC_006526.2 Zymomonas mobilis subsp. mobilis ZM4, complete genome\r\n"
     ]
    }
   ],
   "source": [
    "!sort -k 3 microbes.2.k51.txt | cat -"
   ]
  },
  {
   "cell_type": "markdown",
   "metadata": {},
   "source": [
    "### Organisms present in metagenome but not found with SBT search\n",
    "- Herpetosiphon aurantiacus \n",
    "- Methanocaldococcus jannaschii\n",
    "- Methanopyrus kandleri \n",
    "- Nanoarchaeum equitans \n",
    "- Pyrobaculum aerophilum IM2\n",
    "- Pyrobaculum arsenaticum \n",
    "- Pyrobaculum calidifontis \n",
    "- Thermoanaerobacter pseudethanolicus \n",
    "- Thermus thermophilus HB8 * \n",
    "\n",
    "### Organisms found with sbt search but not present in metagenome (Fraction of genome, Refseq ID, organism)\n",
    "- 0.02 NZ_LGKP01000025.1 Herpetosiphon geysericola strain DSM 7119 contig_1, whole genome shotgun sequence\n",
    "- 0.03 NZ_CP009149.1 Methanocaldococcus sp. JH146, complete genome\n",
    "- 0.91 NC_005835.1 Thermus thermophilus HB27, complete genome *\n"
   ]
  },
  {
   "cell_type": "code",
   "execution_count": null,
   "metadata": {
    "collapsed": true
   },
   "outputs": [],
   "source": []
  }
 ],
 "metadata": {
  "kernelspec": {
   "display_name": "Python [Root]",
   "language": "python",
   "name": "Python [Root]"
  },
  "language_info": {
   "codemirror_mode": {
    "name": "ipython",
    "version": 3
   },
   "file_extension": ".py",
   "mimetype": "text/x-python",
   "name": "python",
   "nbconvert_exporter": "python",
   "pygments_lexer": "ipython3",
   "version": "3.5.2"
  }
 },
 "nbformat": 4,
 "nbformat_minor": 0
}
