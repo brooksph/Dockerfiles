{
 "cells": [
  {
   "cell_type": "code",
   "execution_count": 1,
   "metadata": {
    "collapsed": true
   },
   "outputs": [],
   "source": [
    "%matplotlib inline"
   ]
  },
  {
   "cell_type": "code",
   "execution_count": 2,
   "metadata": {
    "collapsed": true
   },
   "outputs": [],
   "source": [
    "import numpy\n",
    "from sourmash_lib import fig\n",
    "import pylab"
   ]
  },
  {
   "cell_type": "code",
   "execution_count": 8,
   "metadata": {
    "collapsed": false
   },
   "outputs": [
    {
     "name": "stdout",
     "output_type": "stream",
     "text": [
      "\u001b[1m\u001b[34mLiterature\u001b[m\u001b[m/                             ch3 copy.pdf\r\n",
      "SRR606249.pe.qc.fq.gz.abundtrim.gz.sig  mircea\r\n",
      "Sbt_search_development_pipeline.md      mircea.2.fa.sig\r\n",
      "Sourtax_development_pipeline.md         mircea.labels.txt\r\n",
      "Untitled.ipynb                          sourmash_proposal.md\r\n"
     ]
    }
   ],
   "source": [
    "ls"
   ]
  },
  {
   "cell_type": "code",
   "execution_count": 13,
   "metadata": {
    "collapsed": false
   },
   "outputs": [
    {
     "name": "stdout",
     "output_type": "stream",
     "text": [
      "# running sourmash subcommand: compare\n",
      "loading SRR606249.pe.qc.fq.gz.abundtrim.gz.sig\n",
      "loading mircea.2.fa.sig\n",
      "0-SRR606249.pe.qc.fq.gz.abundtrim.gz\t[ 1.     0.943]\n",
      "1-         mircea.2.fa\t[ 0.286  1.   ]\n",
      "min similarity in matrix: 0.2862874912227906\n",
      "saving labels to: mircea.labels.txt\n",
      "saving distance matrix to: mircea\n"
     ]
    }
   ],
   "source": [
    "! sourmash compare -o mircea *.sig -k 51"
   ]
  },
  {
   "cell_type": "code",
   "execution_count": 12,
   "metadata": {
    "collapsed": false
   },
   "outputs": [
    {
     "data": {
      "text/plain": [
       "(0.62332737491094259, 1.0)"
      ]
     },
     "execution_count": 12,
     "metadata": {},
     "output_type": "execute_result"
    },
    {
     "data": {
      "image/png": "[encoded data removed]",
      "text/plain": [
       "<matplotlib.figure.Figure at 0x10e09b128>"
      ]
     },
     "metadata": {},
     "output_type": "display_data"
    }
   ],
   "source": [
    "D, labels = fig.load_matrix_and_labels('mircea')\n",
    "D = (D + D.T) / 2.0\n",
    "_ = fig.plot_composite_matrix(D, labels, vmin=0.48)\n",
    "numpy.min(D), numpy.max(D)"
   ]
  },
  {
   "cell_type": "code",
   "execution_count": null,
   "metadata": {
    "collapsed": true
   },
   "outputs": [],
   "source": []
  }
 ],
 "metadata": {
  "kernelspec": {
   "display_name": "Python [Root]",
   "language": "python",
   "name": "Python [Root]"
  },
  "language_info": {
   "codemirror_mode": {
    "name": "ipython",
    "version": 3
   },
   "file_extension": ".py",
   "mimetype": "text/x-python",
   "name": "python",
   "nbconvert_exporter": "python",
   "pygments_lexer": "ipython3",
   "version": "3.5.2"
  }
 },
 "nbformat": 4,
 "nbformat_minor": 0
}
